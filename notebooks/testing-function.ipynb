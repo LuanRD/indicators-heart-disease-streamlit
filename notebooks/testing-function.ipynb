{
 "cells": [
  {
   "cell_type": "code",
   "execution_count": 36,
   "id": "3e5b569e",
   "metadata": {},
   "outputs": [],
   "source": [
    "import pandas as pd\n",
    "import pickle\n",
    "from flask import request"
   ]
  },
  {
   "cell_type": "code",
   "execution_count": 37,
   "id": "d6cf0343",
   "metadata": {},
   "outputs": [],
   "source": [
    "pipeline = pickle.load(open('../models/pipeline.pkl', 'rb'))"
   ]
  },
  {
   "cell_type": "code",
   "execution_count": 62,
   "id": "7205c251",
   "metadata": {},
   "outputs": [],
   "source": [
    "dados = pd.read_csv('../data/raw/heart_2020_cleaned.csv')"
   ]
  },
  {
   "cell_type": "code",
   "execution_count": 76,
   "id": "701deea1",
   "metadata": {},
   "outputs": [
    {
     "data": {
      "text/html": [
       "<div>\n",
       "<style scoped>\n",
       "    .dataframe tbody tr th:only-of-type {\n",
       "        vertical-align: middle;\n",
       "    }\n",
       "\n",
       "    .dataframe tbody tr th {\n",
       "        vertical-align: top;\n",
       "    }\n",
       "\n",
       "    .dataframe thead th {\n",
       "        text-align: right;\n",
       "    }\n",
       "</style>\n",
       "<table border=\"1\" class=\"dataframe\">\n",
       "  <thead>\n",
       "    <tr style=\"text-align: right;\">\n",
       "      <th></th>\n",
       "      <th>HeartDisease</th>\n",
       "      <th>Smoking</th>\n",
       "      <th>AlcoholDrinking</th>\n",
       "      <th>Stroke</th>\n",
       "      <th>DiffWalking</th>\n",
       "      <th>Sex</th>\n",
       "      <th>AgeCategory</th>\n",
       "      <th>Race</th>\n",
       "      <th>Diabetic</th>\n",
       "      <th>PhysicalActivity</th>\n",
       "      <th>GenHealth</th>\n",
       "      <th>Asthma</th>\n",
       "      <th>KidneyDisease</th>\n",
       "      <th>SkinCancer</th>\n",
       "    </tr>\n",
       "  </thead>\n",
       "  <tbody>\n",
       "    <tr>\n",
       "      <th>count</th>\n",
       "      <td>319795</td>\n",
       "      <td>319795</td>\n",
       "      <td>319795</td>\n",
       "      <td>319795</td>\n",
       "      <td>319795</td>\n",
       "      <td>319795</td>\n",
       "      <td>319795</td>\n",
       "      <td>319795</td>\n",
       "      <td>319795</td>\n",
       "      <td>319795</td>\n",
       "      <td>319795</td>\n",
       "      <td>319795</td>\n",
       "      <td>319795</td>\n",
       "      <td>319795</td>\n",
       "    </tr>\n",
       "    <tr>\n",
       "      <th>unique</th>\n",
       "      <td>2</td>\n",
       "      <td>2</td>\n",
       "      <td>2</td>\n",
       "      <td>2</td>\n",
       "      <td>2</td>\n",
       "      <td>2</td>\n",
       "      <td>13</td>\n",
       "      <td>6</td>\n",
       "      <td>4</td>\n",
       "      <td>2</td>\n",
       "      <td>5</td>\n",
       "      <td>2</td>\n",
       "      <td>2</td>\n",
       "      <td>2</td>\n",
       "    </tr>\n",
       "    <tr>\n",
       "      <th>top</th>\n",
       "      <td>No</td>\n",
       "      <td>No</td>\n",
       "      <td>No</td>\n",
       "      <td>No</td>\n",
       "      <td>No</td>\n",
       "      <td>Female</td>\n",
       "      <td>65-69</td>\n",
       "      <td>White</td>\n",
       "      <td>No</td>\n",
       "      <td>Yes</td>\n",
       "      <td>Very good</td>\n",
       "      <td>No</td>\n",
       "      <td>No</td>\n",
       "      <td>No</td>\n",
       "    </tr>\n",
       "    <tr>\n",
       "      <th>freq</th>\n",
       "      <td>292422</td>\n",
       "      <td>187887</td>\n",
       "      <td>298018</td>\n",
       "      <td>307726</td>\n",
       "      <td>275385</td>\n",
       "      <td>167805</td>\n",
       "      <td>34151</td>\n",
       "      <td>245212</td>\n",
       "      <td>269653</td>\n",
       "      <td>247957</td>\n",
       "      <td>113858</td>\n",
       "      <td>276923</td>\n",
       "      <td>308016</td>\n",
       "      <td>289976</td>\n",
       "    </tr>\n",
       "  </tbody>\n",
       "</table>\n",
       "</div>"
      ],
      "text/plain": [
       "       HeartDisease Smoking AlcoholDrinking  Stroke DiffWalking     Sex  \\\n",
       "count        319795  319795          319795  319795      319795  319795   \n",
       "unique            2       2               2       2           2       2   \n",
       "top              No      No              No      No          No  Female   \n",
       "freq         292422  187887          298018  307726      275385  167805   \n",
       "\n",
       "       AgeCategory    Race Diabetic PhysicalActivity  GenHealth  Asthma  \\\n",
       "count       319795  319795   319795           319795     319795  319795   \n",
       "unique          13       6        4                2          5       2   \n",
       "top          65-69   White       No              Yes  Very good      No   \n",
       "freq         34151  245212   269653           247957     113858  276923   \n",
       "\n",
       "       KidneyDisease SkinCancer  \n",
       "count         319795     319795  \n",
       "unique             2          2  \n",
       "top               No         No  \n",
       "freq          308016     289976  "
      ]
     },
     "execution_count": 76,
     "metadata": {},
     "output_type": "execute_result"
    }
   ],
   "source": [
    "dados.describe(include=[\"O\"])"
   ]
  },
  {
   "cell_type": "code",
   "execution_count": 146,
   "id": "62def2f5",
   "metadata": {},
   "outputs": [],
   "source": [
    "data = {'BMI': '23', \n",
    "        'Smoking': 'Sim', \n",
    "        'AlcoholDrinking': 'Sim', \n",
    "        'Stroke': 'Sim', \n",
    "        'PhysicalHealth': '12', \n",
    "        'MentalHealth': '13',\n",
    "        'DiffWalking': 'Sim',\n",
    "        'Sex': 'Masculino',\n",
    "        'AgeCategory': '18-24',\n",
    "        'Race': 'Branco',\n",
    "        'Diabetic': 'Sim (durante a gravidez)',\n",
    "        'PhysicalActivity': 'Não',\n",
    "        'GenHealth': 'Boa',\n",
    "        'SleepTime': '12',\n",
    "        'Asthma': 'Não',\n",
    "        'KidneyDisease': 'Não',\n",
    "        'SkinCancer': 'Não'}"
   ]
  },
  {
   "cell_type": "code",
   "execution_count": 147,
   "id": "9e304af3",
   "metadata": {},
   "outputs": [],
   "source": [
    "inputs = []\n",
    "for x in data.values():\n",
    "    if x.isnumeric() == True:\n",
    "        x = float(x)\n",
    "    else:\n",
    "        pass\n",
    "\n",
    "    inputs.append(x)"
   ]
  },
  {
   "cell_type": "code",
   "execution_count": 148,
   "id": "e8793358",
   "metadata": {},
   "outputs": [],
   "source": [
    "values = []\n",
    "for i, j in enumerate(inputs):\n",
    "    i = list()\n",
    "    i.append(j)\n",
    "    values.append(i)\n",
    "\n",
    "zip_obj = zip(data.keys(), values)\n",
    "df = pd.DataFrame(dict(zip_obj))"
   ]
  },
  {
   "cell_type": "code",
   "execution_count": 149,
   "id": "9f7ba0bb",
   "metadata": {
    "scrolled": true
   },
   "outputs": [
    {
     "data": {
      "text/html": [
       "<div>\n",
       "<style scoped>\n",
       "    .dataframe tbody tr th:only-of-type {\n",
       "        vertical-align: middle;\n",
       "    }\n",
       "\n",
       "    .dataframe tbody tr th {\n",
       "        vertical-align: top;\n",
       "    }\n",
       "\n",
       "    .dataframe thead th {\n",
       "        text-align: right;\n",
       "    }\n",
       "</style>\n",
       "<table border=\"1\" class=\"dataframe\">\n",
       "  <thead>\n",
       "    <tr style=\"text-align: right;\">\n",
       "      <th></th>\n",
       "      <th>BMI</th>\n",
       "      <th>Smoking</th>\n",
       "      <th>AlcoholDrinking</th>\n",
       "      <th>Stroke</th>\n",
       "      <th>PhysicalHealth</th>\n",
       "      <th>MentalHealth</th>\n",
       "      <th>DiffWalking</th>\n",
       "      <th>Sex</th>\n",
       "      <th>AgeCategory</th>\n",
       "      <th>Race</th>\n",
       "      <th>Diabetic</th>\n",
       "      <th>PhysicalActivity</th>\n",
       "      <th>GenHealth</th>\n",
       "      <th>SleepTime</th>\n",
       "      <th>Asthma</th>\n",
       "      <th>KidneyDisease</th>\n",
       "      <th>SkinCancer</th>\n",
       "    </tr>\n",
       "  </thead>\n",
       "  <tbody>\n",
       "    <tr>\n",
       "      <th>0</th>\n",
       "      <td>23.0</td>\n",
       "      <td>Sim</td>\n",
       "      <td>Sim</td>\n",
       "      <td>Sim</td>\n",
       "      <td>12.0</td>\n",
       "      <td>13.0</td>\n",
       "      <td>Sim</td>\n",
       "      <td>Masculino</td>\n",
       "      <td>18-24</td>\n",
       "      <td>Branco</td>\n",
       "      <td>Sim (durante a gravidez)</td>\n",
       "      <td>Não</td>\n",
       "      <td>Boa</td>\n",
       "      <td>12.0</td>\n",
       "      <td>Não</td>\n",
       "      <td>Não</td>\n",
       "      <td>Não</td>\n",
       "    </tr>\n",
       "  </tbody>\n",
       "</table>\n",
       "</div>"
      ],
      "text/plain": [
       "    BMI Smoking AlcoholDrinking Stroke  PhysicalHealth  MentalHealth  \\\n",
       "0  23.0     Sim             Sim    Sim            12.0          13.0   \n",
       "\n",
       "  DiffWalking        Sex AgeCategory    Race                  Diabetic  \\\n",
       "0         Sim  Masculino       18-24  Branco  Sim (durante a gravidez)   \n",
       "\n",
       "  PhysicalActivity GenHealth  SleepTime Asthma KidneyDisease SkinCancer  \n",
       "0              Não       Boa       12.0    Não           Não        Não  "
      ]
     },
     "execution_count": 149,
     "metadata": {},
     "output_type": "execute_result"
    }
   ],
   "source": [
    "df"
   ]
  },
  {
   "cell_type": "code",
   "execution_count": 150,
   "id": "dc9e0574",
   "metadata": {},
   "outputs": [],
   "source": [
    "binary = ['Smoking', 'AlcoholDrinking', 'Stroke', 'DiffWalking', 'PhysicalActivity', 'Asthma', 'KidneyDisease', 'SkinCancer']\n",
    "for column in df[binary]:\n",
    "    df[column] = df[column].map({'Não': 'No', 'Sim': 'Yes'})\n",
    "\n",
    "df['Sex'] = df['Sex'].map({'Masculino': 'Male', 'Feminino': 'Female'})\n",
    "df['Diabetic'] = df['Diabetic'].map({'Não': 'No', 'Sim': 'Yes', 'Pré-diabetes': 'No, borderline diabetes', 'Sim (durante a gravidez)': 'Yes (during pregnancy)'})\n",
    "df['Race'] = df['Race'].map({'Branco': 'White', 'Negro': 'Black', 'Asiático': 'Asian', 'Indígena': 'American Indian/Alaskan Native', 'Hispânico': 'Hispanic', 'Outro': 'Other'})\n",
    "df['GenHealth'] = df['GenHealth'].map({'Muito boa': 'Very good', 'Boa': 'Good', 'Regular': 'Fair', 'Ruim': 'Poor', 'Excelente': 'Excellent'})"
   ]
  },
  {
   "cell_type": "code",
   "execution_count": 151,
   "id": "349b28af",
   "metadata": {
    "scrolled": false
   },
   "outputs": [],
   "source": [
    "prediction = pipeline.predict(df)"
   ]
  },
  {
   "cell_type": "code",
   "execution_count": 152,
   "id": "ac936469",
   "metadata": {},
   "outputs": [
    {
     "data": {
      "text/plain": [
       "array([0])"
      ]
     },
     "execution_count": 152,
     "metadata": {},
     "output_type": "execute_result"
    }
   ],
   "source": [
    "prediction"
   ]
  },
  {
   "cell_type": "code",
   "execution_count": null,
   "id": "4df264c5",
   "metadata": {},
   "outputs": [],
   "source": []
  }
 ],
 "metadata": {
  "kernelspec": {
   "display_name": "Python 3 (ipykernel)",
   "language": "python",
   "name": "python3"
  },
  "language_info": {
   "codemirror_mode": {
    "name": "ipython",
    "version": 3
   },
   "file_extension": ".py",
   "mimetype": "text/x-python",
   "name": "python",
   "nbconvert_exporter": "python",
   "pygments_lexer": "ipython3",
   "version": "3.9.7"
  }
 },
 "nbformat": 4,
 "nbformat_minor": 5
}
